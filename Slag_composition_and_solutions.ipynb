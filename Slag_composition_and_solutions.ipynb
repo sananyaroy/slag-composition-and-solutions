{
  "nbformat": 4,
  "nbformat_minor": 0,
  "metadata": {
    "colab": {
      "provenance": []
    },
    "kernelspec": {
      "name": "python3",
      "display_name": "Python 3"
    },
    "language_info": {
      "name": "python"
    }
  },
  "cells": [
    {
      "cell_type": "code",
      "execution_count": 4,
      "metadata": {
        "colab": {
          "base_uri": "https://localhost:8080/"
        },
        "id": "mnvKth3xgnw4",
        "outputId": "2a68210d-bbc1-4322-dabf-8cd322a86a89"
      },
      "outputs": [
        {
          "output_type": "stream",
          "name": "stdout",
          "text": [
            "MAE: 0.70\n",
            "RMSE: 0.83\n",
            "\n",
            "Predicted Slag Composition:\n",
            "SiO2: 28.01%\n",
            "CaO: 37.99%\n",
            "Basicity (CaO/SiO2): 1.36\n",
            "\n",
            "Suggested Corrective Actions:\n",
            "- Increase flux addition (Limestone/Dolomite) to raise basicity.\n"
          ]
        },
        {
          "output_type": "stream",
          "name": "stderr",
          "text": [
            "/usr/local/lib/python3.12/dist-packages/sklearn/utils/validation.py:2739: UserWarning: X does not have valid feature names, but RandomForestRegressor was fitted with feature names\n",
            "  warnings.warn(\n"
          ]
        }
      ],
      "source": [
        "import pandas as pd\n",
        "from sklearn.model_selection import train_test_split\n",
        "from sklearn.ensemble import RandomForestRegressor\n",
        "from sklearn.metrics import mean_absolute_error, mean_squared_error\n",
        "data = {\n",
        "    'Fe':[60,62,58,61,59],\n",
        "    'SiO2':[5,4.5,6,5.2,5.5],\n",
        "    'Al2O3':[2,1.8,2.2,2,1.9],\n",
        "    'CaO':[1,1.2,0.8,1,1.1],\n",
        "    'Limestone':[10,12,9,11,10],\n",
        "    'Dolomite':[5,6,4,5,5],\n",
        "    'BlastTemp':[1200,1180,1210,1190,1205],\n",
        "    'CokeRate':[450,430,460,440,445],\n",
        "    'SiO2_slag':[28,27,29,28,28],\n",
        "    'CaO_slag':[38,39,37,38,38],\n",
        "    'Basicity':[1.36,1.44,1.28,1.36,1.36]\n",
        "}\n",
        "df = pd.DataFrame(data)\n",
        "X = df[['Fe','SiO2','Al2O3','CaO','Limestone','Dolomite','BlastTemp','CokeRate']]\n",
        "y = df[['SiO2_slag','CaO_slag','Basicity']]\n",
        "X_train, X_test, y_train, y_test = train_test_split(X, y, test_size=0.2, random_state=42)\n",
        "model = RandomForestRegressor(n_estimators=100, random_state=42)\n",
        "model.fit(X_train, y_train)\n",
        "y_pred = model.predict(X_test)\n",
        "mae = mean_absolute_error(y_test, y_pred)\n",
        "rmse = mean_squared_error(y_test, y_pred)**0.5\n",
        "print(f\"MAE: {mae:.2f}\")\n",
        "print(f\"RMSE: {rmse:.2f}\\n\")\n",
        "new_sample = [[61,5,2,1,11,5,1190,440]]\n",
        "predicted_slag = model.predict(new_sample)[0]\n",
        "print(\"Predicted Slag Composition:\")\n",
        "print(f\"SiO2: {predicted_slag[0]:.2f}%\")\n",
        "print(f\"CaO: {predicted_slag[1]:.2f}%\")\n",
        "print(f\"Basicity (CaO/SiO2): {predicted_slag[2]:.2f}\\n\")\n",
        "def slag_solutions(siO2, caO, basicity, target_basicity=1.4):\n",
        "    suggestions = []\n",
        "    # basicity\n",
        "    if basicity < target_basicity:\n",
        "        suggestions.append(\"Increase flux addition (Limestone/Dolomite) to raise basicity.\")\n",
        "    elif basicity > target_basicity:\n",
        "        suggestions.append(\"Reduce flux addition to lower basicity.\")\n",
        "    # SiO2 content\n",
        "    if siO2 > 30:\n",
        "        suggestions.append(\"Consider adding more CaO flux to reduce SiO2 content.\")\n",
        "    elif siO2 < 25:\n",
        "        suggestions.append(\"Slightly reduce CaO addition to increase SiO2 if needed.\")\n",
        "    # CaO content\n",
        "    if caO < 35:\n",
        "        suggestions.append(\"Increase Limestone/Dolomite addition to increase CaO.\")\n",
        "    elif caO > 40:\n",
        "        suggestions.append(\"Reduce flux addition to lower CaO.\")\n",
        "\n",
        "    if not suggestions:\n",
        "        suggestions.append(\"Slag composition is within optimal range.\")\n",
        "\n",
        "    return suggestions\n",
        "solutions = slag_solutions(predicted_slag[0], predicted_slag[1], predicted_slag[2])\n",
        "print(\"Suggested Corrective Actions:\")\n",
        "for s in solutions:\n",
        "    print(\"-\", s)"
      ]
    },
    {
      "cell_type": "code",
      "source": [
        "data2 = {\n",
        "    'Fe':[60,62,78,91,59],\n",
        "    'SiO2':[5,4.5,6,5.2,5.5],\n",
        "    'Al2O3':[2,1.9,2.6,2.1,1.3],\n",
        "    'CaO':[1,1.2,0.8,1,1.1],\n",
        "    'Limestone':[10,12,9,11,10],\n",
        "    'Dolomite':[5,6,4,5,5],\n",
        "    'BlastTemp':[1210,1160,1210,1145,1210],\n",
        "    'CokeRate':[452,437,465,444,445],\n",
        "    'SiO2_slag':[30,39,29,28,28],\n",
        "    'CaO_slag':[38,37,37,32,38],\n",
        "    'Basicity':[1.36,1.44,1.28,1.36,1.36]\n",
        "}\n",
        "import pickle\n",
        "pickle.dump(RandomForestRegressor(n_estimators=100, random_state=42), open('model.pkl', 'wb'))\n",
        "model=pickle.load(open('model.pkl', 'rb'))\n",
        "model.fit(X_train, y_train)\n",
        "df = pd.DataFrame(data2)\n",
        "predictions = model.predict(df[['Fe','SiO2','Al2O3','CaO','Limestone','Dolomite','BlastTemp','CokeRate']])\n",
        "pred_df = pd.DataFrame(predictions, columns=['SiO2_slag','CaO_slag','Basicity'])\n",
        "pred_df['Solutions'] = pred_df.apply(\n",
        "    lambda row: \" | \".join(slag_solutions(row['SiO2_slag'], row['CaO_slag'], row['Basicity'])), axis=1\n",
        ")\n",
        "data2_df = pd.DataFrame(data2)\n",
        "final_df = pd.concat([data2_df, pred_df], axis=1)\n",
        "final_df.to_csv(\"slag_predictions_with_solutions.csv\", index=False)\n",
        "print(final_df)\n",
        "import joblib\n",
        "joblib.dump(model, \"slag_model.pkl\")"
      ],
      "metadata": {
        "colab": {
          "base_uri": "https://localhost:8080/"
        },
        "id": "MWUHFmIchFMX",
        "outputId": "f6a11ad6-7b90-4ba4-f63e-207147097f0b"
      },
      "execution_count": 23,
      "outputs": [
        {
          "output_type": "stream",
          "name": "stdout",
          "text": [
            "   Fe  SiO2  Al2O3  CaO  Limestone  Dolomite  BlastTemp  CokeRate  SiO2_slag  \\\n",
            "0  60   5.0    2.0  1.0         10         5       1210       452         30   \n",
            "1  62   4.5    1.9  1.2         12         6       1160       437         39   \n",
            "2  78   6.0    2.6  0.8          9         4       1210       465         29   \n",
            "3  91   5.2    2.1  1.0         11         5       1145       444         28   \n",
            "4  59   5.5    1.3  1.1         10         5       1210       445         28   \n",
            "\n",
            "   CaO_slag  Basicity  SiO2_slag  CaO_slag  Basicity  \\\n",
            "0        38      1.36      28.06     37.94    1.3552   \n",
            "1        37      1.44      28.01     37.99    1.3592   \n",
            "2        37      1.28      28.54     37.46    1.3168   \n",
            "3        32      1.36      28.01     37.99    1.3592   \n",
            "4        38      1.36      28.05     37.95    1.3560   \n",
            "\n",
            "                                           Solutions  \n",
            "0  Increase flux addition (Limestone/Dolomite) to...  \n",
            "1  Increase flux addition (Limestone/Dolomite) to...  \n",
            "2  Increase flux addition (Limestone/Dolomite) to...  \n",
            "3  Increase flux addition (Limestone/Dolomite) to...  \n",
            "4  Increase flux addition (Limestone/Dolomite) to...  \n"
          ]
        },
        {
          "output_type": "execute_result",
          "data": {
            "text/plain": [
              "['slag_model.pkl']"
            ]
          },
          "metadata": {},
          "execution_count": 23
        }
      ]
    }
  ]
}